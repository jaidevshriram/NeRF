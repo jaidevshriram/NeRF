{
 "cells": [
  {
   "cell_type": "code",
   "execution_count": 1,
   "id": "3b847739",
   "metadata": {},
   "outputs": [
    {
     "name": "stderr",
     "output_type": "stream",
     "text": [
      "/home/jd/anaconda3/envs/3d/lib/python3.9/site-packages/tqdm/auto.py:22: TqdmWarning: IProgress not found. Please update jupyter and ipywidgets. See https://ipywidgets.readthedocs.io/en/stable/user_install.html\n",
      "  from .autonotebook import tqdm as notebook_tqdm\n"
     ]
    }
   ],
   "source": [
    "import torch\n",
    "import torch.nn as nn\n",
    "\n",
    "from pytorch3d.renderer import RayBundle"
   ]
  },
  {
   "cell_type": "code",
   "execution_count": 77,
   "id": "28500ce9",
   "metadata": {},
   "outputs": [],
   "source": [
    "class RayMarcher(nn.Module):\n",
    "    def __init__(self, include_depth=True, near=0.1, far=6.0):\n",
    "        super().__init__()\n",
    "        self.eps = 1e-10\n",
    "        self.depth = include_depth\n",
    "        self.near = near\n",
    "        self.far = far\n",
    "        \n",
    "    def calculate_depth(self, weights: torch.Tensor) -> torch.Tensor:\n",
    "        \n",
    "        num_points = weights.shape[-1]\n",
    "        depth_vals = torch.linspace(self.near, self.far, num_points)\n",
    "        \n",
    "        depth = weights * depth_vals[None, None, :]\n",
    "        depth = torch.sum(depth, dim=-1)\n",
    "        \n",
    "        return depth\n",
    "\n",
    "    def forward(self,\n",
    "            densities: torch.Tensor, # N x num_rays x num_points x 1\n",
    "            rgb: torch.Tensor, # N x num_rays x num_points x 3\n",
    "        ) -> torch.Tensor:\n",
    "\n",
    "        densities = densities.squeeze(-1)\n",
    "        \n",
    "        num_images = densities.shape[0]\n",
    "        num_rays = densities.shape[1]\n",
    "        num_pts = densities.shape[2]\n",
    "        \n",
    "        # Calculate the light upto that point\n",
    "        transmittance = torch.cumprod((1 + self.eps) - densities, dim=-1)\n",
    "        \n",
    "        # Shift the transmittance by one\n",
    "        transmittance = torch.cat([torch.ones((num_images, num_rays, 1)), transmittance], dim=-1)[..., :num_pts]\n",
    "\n",
    "        # \\int_t_{near}^{t} * density at the point\n",
    "        weights = densities * transmittance\n",
    "        \n",
    "        print(weights.shape, rgb.shape, weights[..., None].shape)\n",
    "        \n",
    "        # RGB(t) = \\int_t_{near}^{t} * density at the point * color\n",
    "        # RGB = sum of RGB(t)\n",
    "        rgb_calc = torch.sum(weights[..., None] * rgb, dim=-2)\n",
    "        \n",
    "        opacity_calc = 1.0 - torch.prod(1.0 - densities, dim=-1, keepdim=True)\n",
    "        \n",
    "        if self.depth:\n",
    "            depth = self.calculate_depth(weights)\n",
    "            return rgb_calc, opacity_calc, depth\n",
    "                \n",
    "        return rgb_calc, opacity_calc"
   ]
  },
  {
   "cell_type": "code",
   "execution_count": 78,
   "id": "3131dc41",
   "metadata": {},
   "outputs": [],
   "source": [
    "raymarcher = RayMarcher()"
   ]
  },
  {
   "cell_type": "code",
   "execution_count": 85,
   "id": "57d6da43",
   "metadata": {},
   "outputs": [
    {
     "name": "stdout",
     "output_type": "stream",
     "text": [
      "torch.Size([1, 100, 128]) torch.Size([1, 100, 128, 3]) torch.Size([1, 100, 128, 1])\n"
     ]
    }
   ],
   "source": [
    "densities = torch.randn((1, 100, 128))\n",
    "rgb = torch.randn((1, 100, 128, 3))\n",
    "\n",
    "rgb, opacity, depth = raymarcher(densities, rgb)"
   ]
  },
  {
   "cell_type": "code",
   "execution_count": 86,
   "id": "e2d126bb",
   "metadata": {},
   "outputs": [],
   "source": [
    "import matplotlib.pyplot as plt"
   ]
  },
  {
   "cell_type": "code",
   "execution_count": 88,
   "id": "fa250c0a",
   "metadata": {},
   "outputs": [],
   "source": [
    "# plt.imshow(depth.numpy().reshape(-1, 10))\n",
    "# plt.show()"
   ]
  },
  {
   "cell_type": "code",
   "execution_count": null,
   "id": "26cf497b",
   "metadata": {},
   "outputs": [],
   "source": []
  }
 ],
 "metadata": {
  "kernelspec": {
   "display_name": "Python 3 (ipykernel)",
   "language": "python",
   "name": "python3"
  },
  "language_info": {
   "codemirror_mode": {
    "name": "ipython",
    "version": 3
   },
   "file_extension": ".py",
   "mimetype": "text/x-python",
   "name": "python",
   "nbconvert_exporter": "python",
   "pygments_lexer": "ipython3",
   "version": "3.9.15"
  }
 },
 "nbformat": 4,
 "nbformat_minor": 5
}
